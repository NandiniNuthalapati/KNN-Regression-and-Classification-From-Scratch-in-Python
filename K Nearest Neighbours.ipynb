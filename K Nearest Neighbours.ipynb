{
 "cells": [
  {
   "cell_type": "code",
   "execution_count": 381,
   "metadata": {},
   "outputs": [],
   "source": [
    "import numpy as np\n",
    "import pandas as pd\n",
    "import math\n",
    "from sklearn.model_selection import train_test_split\n",
    "import sklearn.neighbors\n",
    "from sklearn.neighbors import KNeighborsClassifier\n",
    "from sklearn.neighbors import KNeighborsRegressor\n",
    "from sklearn import metrics\n",
    "from sklearn.preprocessing import scale\n",
    "from collections import Counter"
   ]
  },
  {
   "cell_type": "markdown",
   "metadata": {},
   "source": [
    "### K Nearest Neighbour Classifier"
   ]
  },
  {
   "cell_type": "code",
   "execution_count": 382,
   "metadata": {},
   "outputs": [
    {
     "data": {
      "text/html": [
       "<div>\n",
       "<style>\n",
       "    .dataframe thead tr:only-child th {\n",
       "        text-align: right;\n",
       "    }\n",
       "\n",
       "    .dataframe thead th {\n",
       "        text-align: left;\n",
       "    }\n",
       "\n",
       "    .dataframe tbody tr th {\n",
       "        vertical-align: top;\n",
       "    }\n",
       "</style>\n",
       "<table border=\"1\" class=\"dataframe\">\n",
       "  <thead>\n",
       "    <tr style=\"text-align: right;\">\n",
       "      <th></th>\n",
       "      <th>Sepal length</th>\n",
       "      <th>Sepal width</th>\n",
       "      <th>Petal length</th>\n",
       "      <th>Petal width</th>\n",
       "      <th>Species</th>\n",
       "    </tr>\n",
       "  </thead>\n",
       "  <tbody>\n",
       "    <tr>\n",
       "      <th>0</th>\n",
       "      <td>4.5</td>\n",
       "      <td>2.3</td>\n",
       "      <td>1.3</td>\n",
       "      <td>0.3</td>\n",
       "      <td>setosa</td>\n",
       "    </tr>\n",
       "    <tr>\n",
       "      <th>1</th>\n",
       "      <td>5.7</td>\n",
       "      <td>4.4</td>\n",
       "      <td>1.5</td>\n",
       "      <td>0.4</td>\n",
       "      <td>setosa</td>\n",
       "    </tr>\n",
       "    <tr>\n",
       "      <th>2</th>\n",
       "      <td>7.9</td>\n",
       "      <td>3.8</td>\n",
       "      <td>6.4</td>\n",
       "      <td>2.0</td>\n",
       "      <td>virginica</td>\n",
       "    </tr>\n",
       "    <tr>\n",
       "      <th>3</th>\n",
       "      <td>7.7</td>\n",
       "      <td>3.8</td>\n",
       "      <td>6.7</td>\n",
       "      <td>2.2</td>\n",
       "      <td>virginica</td>\n",
       "    </tr>\n",
       "    <tr>\n",
       "      <th>4</th>\n",
       "      <td>7.7</td>\n",
       "      <td>2.6</td>\n",
       "      <td>6.9</td>\n",
       "      <td>2.3</td>\n",
       "      <td>virginica</td>\n",
       "    </tr>\n",
       "  </tbody>\n",
       "</table>\n",
       "</div>"
      ],
      "text/plain": [
       "   Sepal length  Sepal width  Petal length  Petal width    Species\n",
       "0           4.5          2.3           1.3          0.3     setosa\n",
       "1           5.7          4.4           1.5          0.4     setosa\n",
       "2           7.9          3.8           6.4          2.0  virginica\n",
       "3           7.7          3.8           6.7          2.2  virginica\n",
       "4           7.7          2.6           6.9          2.3  virginica"
      ]
     },
     "execution_count": 382,
     "metadata": {},
     "output_type": "execute_result"
    }
   ],
   "source": [
    "# Import dataset\n",
    "df=pd.read_csv('Iris.csv')\n",
    "df.head()"
   ]
  },
  {
   "cell_type": "code",
   "execution_count": 383,
   "metadata": {},
   "outputs": [],
   "source": [
    "# Splitting data into 70:30 train:test ratio\n",
    "df_X=df.iloc[:,:4]\n",
    "df_Y=df.iloc[:,4]\n",
    "X_train,X_test,Y_train,Y_test=train_test_split(df_X,df_Y,test_size=0.3,random_state=33)"
   ]
  },
  {
   "cell_type": "code",
   "execution_count": 384,
   "metadata": {},
   "outputs": [],
   "source": [
    "# Changing the index of the records to sequential\n",
    "X_train.index=range(len(X_train))\n",
    "Y_train.index=range(len(X_train))\n",
    "X_test.index=range(len(X_test))\n",
    "Y_test.index=range(len(Y_test))"
   ]
  },
  {
   "cell_type": "code",
   "execution_count": 385,
   "metadata": {},
   "outputs": [],
   "source": [
    "# Function to return the list of distances of the test records from train records\n",
    "def distNeighbours(X_train,Y_train,X_test,K):\n",
    "    distance=[]\n",
    "    for i in range(len(X_train)):\n",
    "        eDistance=0\n",
    "        for j in range(len(X_train.columns)):   \n",
    "                eDistance+=round(np.sqrt(pow((X_train.iloc[i,j]-X_test[j]),2)),2)\n",
    "        distance.append((eDistance,i,Y_train.iloc[i]))\n",
    "        distance=sorted(distance, key=lambda x: x[0])[0:K]\n",
    "    return distance\n",
    "# Predict the output of the categorical variables based on K nearest neighbours \n",
    "# Output is the most frequent class among K nearest neighbours\n",
    "def predictOutputCategorical(X_train,Y_train,X_test,K):\n",
    "    neighbours=[]\n",
    "    responses=[]\n",
    "    for i in range(len(X_test)):\n",
    "        neighbours.append(distNeighbours(X_train,Y_train,X_test.iloc[i,:],K))\n",
    "    for i in neighbours:\n",
    "        votes={}\n",
    "        for j in i:\n",
    "            if j[-1] in votes.keys():\n",
    "                votes[j[-1]]=votes[j[-1]]+1\n",
    "            else:\n",
    "                votes[j[-1]]=1\n",
    "        responses.append(sorted(votes,key=votes.get,reverse=True)[0])\n",
    "    return responses\n",
    "# Predict the output of the numeric variables based on K nearest neighbours\n",
    "# Output is the mean of the K nearest neighbours\n",
    "def predictOutputNumeric(X_train,Y_train,X_test,K):\n",
    "    neighbours=[]\n",
    "    responses=[]\n",
    "    for i in range(len(X_test)):\n",
    "        neighbours.append(distNeighbours(X_train,Y_train,X_test.iloc[i,:],K))\n",
    "    for i in neighbours:\n",
    "        mean=0\n",
    "        for j in i:\n",
    "            mean+=j[-1]\n",
    "        mean=mean/K\n",
    "        responses.append(mean)\n",
    "    return responses\n",
    "# Accuarcy of the categorical predictions \n",
    "def getAccuracyCategorical(actual,predicted):\n",
    "    correct=0\n",
    "    for i in range(len(predicted)):\n",
    "        if predicted[i]==actual[i]:\n",
    "            correct+=1\n",
    "    return round((correct/len(actual))*100,2)\n",
    "# Accuarcy of the numerical predictions\n",
    "def getAccuracyNumeric(actual,predicted):\n",
    "    error=0\n",
    "    for i in range(len(predicted)):\n",
    "        error+=pow((actual[i]-predicted[i]),2)\n",
    "    error=error/len(predicted)-1\n",
    "    return 100-error"
   ]
  },
  {
   "cell_type": "code",
   "execution_count": 386,
   "metadata": {
    "scrolled": false
   },
   "outputs": [
    {
     "data": {
      "text/plain": [
       "95.56"
      ]
     },
     "execution_count": 386,
     "metadata": {},
     "output_type": "execute_result"
    }
   ],
   "source": [
    "# Predict species\n",
    "output=predictOutputCategorical(X_train,Y_train,X_test,3)\n",
    "getAccuracyCategorical(Y_test,output)"
   ]
  },
  {
   "cell_type": "code",
   "execution_count": 387,
   "metadata": {},
   "outputs": [
    {
     "data": {
      "text/plain": [
       "KNeighborsClassifier(algorithm='auto', leaf_size=30, metric='minkowski',\n",
       "           metric_params=None, n_jobs=1, n_neighbors=3, p=2,\n",
       "           weights='uniform')"
      ]
     },
     "execution_count": 387,
     "metadata": {},
     "output_type": "execute_result"
    }
   ],
   "source": [
    "# Fit model using in built sklearn function\n",
    "model=KNeighborsClassifier(n_neighbors=3,p=2,metric='minkowski')\n",
    "model.fit(X_train,Y_train)"
   ]
  },
  {
   "cell_type": "code",
   "execution_count": 388,
   "metadata": {},
   "outputs": [
    {
     "name": "stdout",
     "output_type": "stream",
     "text": [
      "Accuracy: 95.56\n"
     ]
    }
   ],
   "source": [
    "# Accuracy of the model\n",
    "print('Accuracy: {:^0.2f}'.format(metrics.accuracy_score(Y_test,model.predict(X_test))*100))"
   ]
  },
  {
   "cell_type": "code",
   "execution_count": 389,
   "metadata": {},
   "outputs": [
    {
     "data": {
      "text/plain": [
       "array([ True,  True,  True,  True,  True,  True,  True,  True,  True,\n",
       "        True,  True,  True,  True,  True,  True,  True,  True,  True,\n",
       "        True,  True,  True,  True,  True,  True,  True,  True,  True,\n",
       "        True,  True,  True,  True,  True,  True,  True,  True,  True,\n",
       "        True,  True,  True,  True,  True,  True,  True,  True,  True], dtype=bool)"
      ]
     },
     "execution_count": 389,
     "metadata": {},
     "output_type": "execute_result"
    }
   ],
   "source": [
    "# Check whether the both outputs are same or not\n",
    "# They are same as displayed below\n",
    "output==model.predict(X_test)"
   ]
  },
  {
   "cell_type": "code",
   "execution_count": 390,
   "metadata": {},
   "outputs": [
    {
     "data": {
      "text/html": [
       "<div>\n",
       "<style>\n",
       "    .dataframe thead tr:only-child th {\n",
       "        text-align: right;\n",
       "    }\n",
       "\n",
       "    .dataframe thead th {\n",
       "        text-align: left;\n",
       "    }\n",
       "\n",
       "    .dataframe tbody tr th {\n",
       "        vertical-align: top;\n",
       "    }\n",
       "</style>\n",
       "<table border=\"1\" class=\"dataframe\">\n",
       "  <thead>\n",
       "    <tr style=\"text-align: right;\">\n",
       "      <th></th>\n",
       "      <th>GPA</th>\n",
       "      <th>Miles from Home</th>\n",
       "      <th>College</th>\n",
       "      <th>Accommodations</th>\n",
       "      <th>Years Off</th>\n",
       "      <th>Part-Time Work Hours</th>\n",
       "      <th>Attends Office Hours</th>\n",
       "      <th>High School GPA</th>\n",
       "    </tr>\n",
       "  </thead>\n",
       "  <tbody>\n",
       "    <tr>\n",
       "      <th>0</th>\n",
       "      <td>0.73</td>\n",
       "      <td>253</td>\n",
       "      <td>Social Sciences</td>\n",
       "      <td>Dorm</td>\n",
       "      <td>4</td>\n",
       "      <td>35</td>\n",
       "      <td>Sometimes</td>\n",
       "      <td>3.23</td>\n",
       "    </tr>\n",
       "    <tr>\n",
       "      <th>1</th>\n",
       "      <td>1.60</td>\n",
       "      <td>143</td>\n",
       "      <td>Social Sciences</td>\n",
       "      <td>Dorm</td>\n",
       "      <td>5</td>\n",
       "      <td>30</td>\n",
       "      <td>Never</td>\n",
       "      <td>2.35</td>\n",
       "    </tr>\n",
       "    <tr>\n",
       "      <th>2</th>\n",
       "      <td>2.17</td>\n",
       "      <td>171</td>\n",
       "      <td>Social Sciences</td>\n",
       "      <td>Dorm</td>\n",
       "      <td>0</td>\n",
       "      <td>25</td>\n",
       "      <td>Never</td>\n",
       "      <td>3.95</td>\n",
       "    </tr>\n",
       "    <tr>\n",
       "      <th>3</th>\n",
       "      <td>1.02</td>\n",
       "      <td>332</td>\n",
       "      <td>Sciences</td>\n",
       "      <td>Off-campus</td>\n",
       "      <td>5</td>\n",
       "      <td>30</td>\n",
       "      <td>Sometimes</td>\n",
       "      <td>3.44</td>\n",
       "    </tr>\n",
       "    <tr>\n",
       "      <th>4</th>\n",
       "      <td>3.14</td>\n",
       "      <td>112</td>\n",
       "      <td>Business</td>\n",
       "      <td>Dorm</td>\n",
       "      <td>0</td>\n",
       "      <td>25</td>\n",
       "      <td>Sometimes</td>\n",
       "      <td>3.20</td>\n",
       "    </tr>\n",
       "  </tbody>\n",
       "</table>\n",
       "</div>"
      ],
      "text/plain": [
       "    GPA  Miles from Home          College Accommodations  Years Off  \\\n",
       "0  0.73              253  Social Sciences           Dorm          4   \n",
       "1  1.60              143  Social Sciences           Dorm          5   \n",
       "2  2.17              171  Social Sciences           Dorm          0   \n",
       "3  1.02              332         Sciences     Off-campus          5   \n",
       "4  3.14              112         Business           Dorm          0   \n",
       "\n",
       "   Part-Time Work Hours Attends Office Hours  High School GPA  \n",
       "0                    35            Sometimes             3.23  \n",
       "1                    30                Never             2.35  \n",
       "2                    25                Never             3.95  \n",
       "3                    30            Sometimes             3.44  \n",
       "4                    25            Sometimes             3.20  "
      ]
     },
     "execution_count": 390,
     "metadata": {},
     "output_type": "execute_result"
    }
   ],
   "source": [
    "# Import dataset\n",
    "# This is for trying out regression using KNN\n",
    "df=pd.read_csv('Freshmen.csv')\n",
    "df.head()"
   ]
  },
  {
   "cell_type": "code",
   "execution_count": 391,
   "metadata": {},
   "outputs": [],
   "source": [
    "# Change the data types of the categorical variables accordingly\n",
    "df.College=df.College.astype('category')\n",
    "df.Accommodations=df.Accommodations.astype('category')\n",
    "df['Attends Office Hours']=df['Attends Office Hours'].astype('category')"
   ]
  },
  {
   "cell_type": "code",
   "execution_count": 392,
   "metadata": {
    "scrolled": true
   },
   "outputs": [
    {
     "data": {
      "text/html": [
       "<div>\n",
       "<style>\n",
       "    .dataframe thead tr:only-child th {\n",
       "        text-align: right;\n",
       "    }\n",
       "\n",
       "    .dataframe thead th {\n",
       "        text-align: left;\n",
       "    }\n",
       "\n",
       "    .dataframe tbody tr th {\n",
       "        vertical-align: top;\n",
       "    }\n",
       "</style>\n",
       "<table border=\"1\" class=\"dataframe\">\n",
       "  <thead>\n",
       "    <tr style=\"text-align: right;\">\n",
       "      <th></th>\n",
       "      <th>GPA</th>\n",
       "      <th>Miles from Home</th>\n",
       "      <th>Years Off</th>\n",
       "      <th>Part-Time Work Hours</th>\n",
       "      <th>High School GPA</th>\n",
       "      <th>College_Engineering</th>\n",
       "      <th>College_Liberal Arts</th>\n",
       "      <th>College_Sciences</th>\n",
       "      <th>College_Social Sciences</th>\n",
       "      <th>Accommodations_Off-campus</th>\n",
       "      <th>Accommodations_Other</th>\n",
       "      <th>Attends Office Hours_Regularly</th>\n",
       "      <th>Attends Office Hours_Sometimes</th>\n",
       "    </tr>\n",
       "  </thead>\n",
       "  <tbody>\n",
       "    <tr>\n",
       "      <th>0</th>\n",
       "      <td>0.73</td>\n",
       "      <td>253</td>\n",
       "      <td>4</td>\n",
       "      <td>35</td>\n",
       "      <td>3.23</td>\n",
       "      <td>0</td>\n",
       "      <td>0</td>\n",
       "      <td>0</td>\n",
       "      <td>1</td>\n",
       "      <td>0</td>\n",
       "      <td>0</td>\n",
       "      <td>0</td>\n",
       "      <td>1</td>\n",
       "    </tr>\n",
       "    <tr>\n",
       "      <th>1</th>\n",
       "      <td>1.60</td>\n",
       "      <td>143</td>\n",
       "      <td>5</td>\n",
       "      <td>30</td>\n",
       "      <td>2.35</td>\n",
       "      <td>0</td>\n",
       "      <td>0</td>\n",
       "      <td>0</td>\n",
       "      <td>1</td>\n",
       "      <td>0</td>\n",
       "      <td>0</td>\n",
       "      <td>0</td>\n",
       "      <td>0</td>\n",
       "    </tr>\n",
       "    <tr>\n",
       "      <th>2</th>\n",
       "      <td>2.17</td>\n",
       "      <td>171</td>\n",
       "      <td>0</td>\n",
       "      <td>25</td>\n",
       "      <td>3.95</td>\n",
       "      <td>0</td>\n",
       "      <td>0</td>\n",
       "      <td>0</td>\n",
       "      <td>1</td>\n",
       "      <td>0</td>\n",
       "      <td>0</td>\n",
       "      <td>0</td>\n",
       "      <td>0</td>\n",
       "    </tr>\n",
       "    <tr>\n",
       "      <th>3</th>\n",
       "      <td>1.02</td>\n",
       "      <td>332</td>\n",
       "      <td>5</td>\n",
       "      <td>30</td>\n",
       "      <td>3.44</td>\n",
       "      <td>0</td>\n",
       "      <td>0</td>\n",
       "      <td>1</td>\n",
       "      <td>0</td>\n",
       "      <td>1</td>\n",
       "      <td>0</td>\n",
       "      <td>0</td>\n",
       "      <td>1</td>\n",
       "    </tr>\n",
       "    <tr>\n",
       "      <th>4</th>\n",
       "      <td>3.14</td>\n",
       "      <td>112</td>\n",
       "      <td>0</td>\n",
       "      <td>25</td>\n",
       "      <td>3.20</td>\n",
       "      <td>0</td>\n",
       "      <td>0</td>\n",
       "      <td>0</td>\n",
       "      <td>0</td>\n",
       "      <td>0</td>\n",
       "      <td>0</td>\n",
       "      <td>0</td>\n",
       "      <td>1</td>\n",
       "    </tr>\n",
       "  </tbody>\n",
       "</table>\n",
       "</div>"
      ],
      "text/plain": [
       "    GPA  Miles from Home  Years Off  Part-Time Work Hours  High School GPA  \\\n",
       "0  0.73              253          4                    35             3.23   \n",
       "1  1.60              143          5                    30             2.35   \n",
       "2  2.17              171          0                    25             3.95   \n",
       "3  1.02              332          5                    30             3.44   \n",
       "4  3.14              112          0                    25             3.20   \n",
       "\n",
       "   College_Engineering  College_Liberal Arts  College_Sciences  \\\n",
       "0                    0                     0                 0   \n",
       "1                    0                     0                 0   \n",
       "2                    0                     0                 0   \n",
       "3                    0                     0                 1   \n",
       "4                    0                     0                 0   \n",
       "\n",
       "   College_Social Sciences  Accommodations_Off-campus  Accommodations_Other  \\\n",
       "0                        1                          0                     0   \n",
       "1                        1                          0                     0   \n",
       "2                        1                          0                     0   \n",
       "3                        0                          1                     0   \n",
       "4                        0                          0                     0   \n",
       "\n",
       "   Attends Office Hours_Regularly  Attends Office Hours_Sometimes  \n",
       "0                               0                               1  \n",
       "1                               0                               0  \n",
       "2                               0                               0  \n",
       "3                               0                               1  \n",
       "4                               0                               1  "
      ]
     },
     "execution_count": 392,
     "metadata": {},
     "output_type": "execute_result"
    }
   ],
   "source": [
    "# Generate dummy values of the categorical variables and drop one (i.e. n-1 dummies for n categories)\n",
    "df_dummies=pd.get_dummies(df,drop_first=True)\n",
    "# Display top 5 records\n",
    "df_dummies.head()"
   ]
  },
  {
   "cell_type": "code",
   "execution_count": 393,
   "metadata": {},
   "outputs": [],
   "source": [
    "# Specifying the X and Y\n",
    "X_train=df_dummies.iloc[:,1:]\n",
    "Y_train=df_dummies.GPA"
   ]
  },
  {
   "cell_type": "code",
   "execution_count": 394,
   "metadata": {},
   "outputs": [],
   "source": [
    "# Splitting data into 70:30 train:test ratio\n",
    "X_train,X_test,Y_train,Y_test=train_test_split(X_train,Y_train,test_size=0.3,random_state=33)"
   ]
  },
  {
   "cell_type": "code",
   "execution_count": 395,
   "metadata": {},
   "outputs": [],
   "source": [
    "# Changing the index of the records to sequential\n",
    "X_train.index=range(len(X_train))\n",
    "Y_train.index=range(len(X_train))\n",
    "X_test.index=range(len(X_test))\n",
    "Y_test.index=range(len(Y_test))"
   ]
  },
  {
   "cell_type": "code",
   "execution_count": 396,
   "metadata": {},
   "outputs": [
    {
     "name": "stdout",
     "output_type": "stream",
     "text": [
      "Accuracy from the code: 99.94\n"
     ]
    }
   ],
   "source": [
    "# Predict GPA\n",
    "output=predictOutputNumeric(X_train,Y_train,X_test,3)\n",
    "print('Accuracy from the code: {:^0.2f}'.format(getAccuracyNumeric(Y_test,output),2))"
   ]
  },
  {
   "cell_type": "code",
   "execution_count": 397,
   "metadata": {},
   "outputs": [
    {
     "data": {
      "text/plain": [
       "KNeighborsRegressor(algorithm='auto', leaf_size=30, metric='minkowski',\n",
       "          metric_params=None, n_jobs=1, n_neighbors=3, p=2,\n",
       "          weights='uniform')"
      ]
     },
     "execution_count": 397,
     "metadata": {},
     "output_type": "execute_result"
    }
   ],
   "source": [
    "model=KNeighborsRegressor(n_neighbors=3,p=2)\n",
    "model.fit(X_train,Y_train)"
   ]
  },
  {
   "cell_type": "code",
   "execution_count": 398,
   "metadata": {},
   "outputs": [
    {
     "name": "stdout",
     "output_type": "stream",
     "text": [
      "Accuracy from the model 99.88\n"
     ]
    }
   ],
   "source": [
    "print('Accuracy from the model {:^0.2f}'.\n",
    "      format(metrics.mean_squared_error(Y_test,model.predict(X_test))*100))"
   ]
  },
  {
   "cell_type": "code",
   "execution_count": 400,
   "metadata": {},
   "outputs": [
    {
     "data": {
      "text/plain": [
       "array([ True,  True,  True,  True,  True,  True, False,  True, False,\n",
       "        True,  True,  True,  True,  True, False,  True,  True,  True,\n",
       "       False,  True,  True, False,  True, False,  True,  True,  True,\n",
       "        True, False, False], dtype=bool)"
      ]
     },
     "execution_count": 400,
     "metadata": {},
     "output_type": "execute_result"
    }
   ],
   "source": [
    "# Check whether both the outputs are same or not\n",
    "# They are not same - Need to find why?\n",
    "output==model.predict(X_test)"
   ]
  }
 ],
 "metadata": {
  "kernelspec": {
   "display_name": "Python 3",
   "language": "python",
   "name": "python3"
  },
  "language_info": {
   "codemirror_mode": {
    "name": "ipython",
    "version": 3
   },
   "file_extension": ".py",
   "mimetype": "text/x-python",
   "name": "python",
   "nbconvert_exporter": "python",
   "pygments_lexer": "ipython3",
   "version": "3.6.1"
  }
 },
 "nbformat": 4,
 "nbformat_minor": 2
}
